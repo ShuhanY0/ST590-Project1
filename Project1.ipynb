{
 "cells": [
  {
   "cell_type": "code",
   "execution_count": 30,
   "id": "46737d4f-42e8-4aad-b1ed-f61822bcac10",
   "metadata": {},
   "outputs": [],
   "source": [
    "import pandas as pd\n",
    "import numpy as np\n",
    "import matplotlib.pyplot as plt\n",
    "data = pd.read_csv(\"bikeDetails.csv\")"
   ]
  },
  {
   "cell_type": "code",
   "execution_count": 4,
   "id": "53eea377-d0cd-49f3-bbcd-04c03eb79a1f",
   "metadata": {},
   "outputs": [
    {
     "data": {
      "text/html": [
       "<div>\n",
       "<style scoped>\n",
       "    .dataframe tbody tr th:only-of-type {\n",
       "        vertical-align: middle;\n",
       "    }\n",
       "\n",
       "    .dataframe tbody tr th {\n",
       "        vertical-align: top;\n",
       "    }\n",
       "\n",
       "    .dataframe thead th {\n",
       "        text-align: right;\n",
       "    }\n",
       "</style>\n",
       "<table border=\"1\" class=\"dataframe\">\n",
       "  <thead>\n",
       "    <tr style=\"text-align: right;\">\n",
       "      <th></th>\n",
       "      <th>name</th>\n",
       "      <th>selling_price</th>\n",
       "      <th>year</th>\n",
       "      <th>seller_type</th>\n",
       "      <th>owner</th>\n",
       "      <th>km_driven</th>\n",
       "      <th>ex_showroom_price</th>\n",
       "    </tr>\n",
       "  </thead>\n",
       "  <tbody>\n",
       "    <tr>\n",
       "      <th>0</th>\n",
       "      <td>Royal Enfield Classic 350</td>\n",
       "      <td>175000</td>\n",
       "      <td>2019</td>\n",
       "      <td>Individual</td>\n",
       "      <td>1st owner</td>\n",
       "      <td>350</td>\n",
       "      <td>NaN</td>\n",
       "    </tr>\n",
       "    <tr>\n",
       "      <th>1</th>\n",
       "      <td>Honda Dio</td>\n",
       "      <td>45000</td>\n",
       "      <td>2017</td>\n",
       "      <td>Individual</td>\n",
       "      <td>1st owner</td>\n",
       "      <td>5650</td>\n",
       "      <td>NaN</td>\n",
       "    </tr>\n",
       "    <tr>\n",
       "      <th>2</th>\n",
       "      <td>Royal Enfield Classic Gunmetal Grey</td>\n",
       "      <td>150000</td>\n",
       "      <td>2018</td>\n",
       "      <td>Individual</td>\n",
       "      <td>1st owner</td>\n",
       "      <td>12000</td>\n",
       "      <td>148114.0</td>\n",
       "    </tr>\n",
       "    <tr>\n",
       "      <th>3</th>\n",
       "      <td>Yamaha Fazer FI V 2.0 [2016-2018]</td>\n",
       "      <td>65000</td>\n",
       "      <td>2015</td>\n",
       "      <td>Individual</td>\n",
       "      <td>1st owner</td>\n",
       "      <td>23000</td>\n",
       "      <td>89643.0</td>\n",
       "    </tr>\n",
       "    <tr>\n",
       "      <th>4</th>\n",
       "      <td>Yamaha SZ [2013-2014]</td>\n",
       "      <td>20000</td>\n",
       "      <td>2011</td>\n",
       "      <td>Individual</td>\n",
       "      <td>2nd owner</td>\n",
       "      <td>21000</td>\n",
       "      <td>NaN</td>\n",
       "    </tr>\n",
       "  </tbody>\n",
       "</table>\n",
       "</div>"
      ],
      "text/plain": [
       "                                  name  selling_price  year seller_type  \\\n",
       "0            Royal Enfield Classic 350         175000  2019  Individual   \n",
       "1                            Honda Dio          45000  2017  Individual   \n",
       "2  Royal Enfield Classic Gunmetal Grey         150000  2018  Individual   \n",
       "3    Yamaha Fazer FI V 2.0 [2016-2018]          65000  2015  Individual   \n",
       "4                Yamaha SZ [2013-2014]          20000  2011  Individual   \n",
       "\n",
       "       owner  km_driven  ex_showroom_price  \n",
       "0  1st owner        350                NaN  \n",
       "1  1st owner       5650                NaN  \n",
       "2  1st owner      12000           148114.0  \n",
       "3  1st owner      23000            89643.0  \n",
       "4  2nd owner      21000                NaN  "
      ]
     },
     "execution_count": 4,
     "metadata": {},
     "output_type": "execute_result"
    }
   ],
   "source": [
    "data.head()"
   ]
  },
  {
   "cell_type": "code",
   "execution_count": 5,
   "id": "25dddb86-a306-4fd0-80ab-8ce7ecd89cd0",
   "metadata": {},
   "outputs": [
    {
     "name": "stdout",
     "output_type": "stream",
     "text": [
      "<class 'pandas.core.frame.DataFrame'>\n",
      "RangeIndex: 1061 entries, 0 to 1060\n",
      "Data columns (total 7 columns):\n",
      " #   Column             Non-Null Count  Dtype  \n",
      "---  ------             --------------  -----  \n",
      " 0   name               1061 non-null   object \n",
      " 1   selling_price      1061 non-null   int64  \n",
      " 2   year               1061 non-null   int64  \n",
      " 3   seller_type        1061 non-null   object \n",
      " 4   owner              1061 non-null   object \n",
      " 5   km_driven          1061 non-null   int64  \n",
      " 6   ex_showroom_price  626 non-null    float64\n",
      "dtypes: float64(1), int64(3), object(3)\n",
      "memory usage: 58.1+ KB\n"
     ]
    }
   ],
   "source": [
    "data.info()"
   ]
  },
  {
   "cell_type": "markdown",
   "id": "72420f8c-e36c-448a-9103-c054a581af05",
   "metadata": {},
   "source": [
    "### EDA "
   ]
  },
  {
   "cell_type": "code",
   "execution_count": 6,
   "id": "e2b8dcab-4396-4922-8283-6a3527b5bda6",
   "metadata": {},
   "outputs": [],
   "source": [
    "data[[\"seller_type\",\"owner\"]] = data[[\"seller_type\",\"owner\"]].apply(lambda x: x.astype(\"category\"))"
   ]
  },
  {
   "cell_type": "code",
   "execution_count": 7,
   "id": "668a2258-8088-4b55-b058-4174b00fb471",
   "metadata": {},
   "outputs": [
    {
     "name": "stdout",
     "output_type": "stream",
     "text": [
      "<class 'pandas.core.frame.DataFrame'>\n",
      "RangeIndex: 1061 entries, 0 to 1060\n",
      "Data columns (total 7 columns):\n",
      " #   Column             Non-Null Count  Dtype   \n",
      "---  ------             --------------  -----   \n",
      " 0   name               1061 non-null   object  \n",
      " 1   selling_price      1061 non-null   int64   \n",
      " 2   year               1061 non-null   int64   \n",
      " 3   seller_type        1061 non-null   category\n",
      " 4   owner              1061 non-null   category\n",
      " 5   km_driven          1061 non-null   int64   \n",
      " 6   ex_showroom_price  626 non-null    float64 \n",
      "dtypes: category(2), float64(1), int64(3), object(1)\n",
      "memory usage: 43.9+ KB\n"
     ]
    }
   ],
   "source": [
    "data.info()"
   ]
  },
  {
   "cell_type": "code",
   "execution_count": 150,
   "id": "4c43406f-4d34-495b-b1b2-c84f0f69b644",
   "metadata": {},
   "outputs": [
    {
     "data": {
      "text/plain": [
       "Text(0.5, 1.0, 'Selling price distribution')"
      ]
     },
     "execution_count": 150,
     "metadata": {},
     "output_type": "execute_result"
    },
    {
     "data": {
      "image/png": "[encoded data removed]",
      "text/plain": [
       "<Figure size 432x288 with 1 Axes>"
      ]
     },
     "metadata": {
      "needs_background": "light"
     },
     "output_type": "display_data"
    }
   ],
   "source": [
    "plt.hist(data['selling_price'], bins = 40)\n",
    "plt.title (\"Selling price distribution\")\n",
    "plt.show()\n",
    "plt.close()"
   ]
  },
  {
   "cell_type": "code",
   "execution_count": 9,
   "id": "d91ef009-452d-49f9-b80c-2b7ff2de4db8",
   "metadata": {},
   "outputs": [
    {
     "data": {
      "image/png": "[encoded data removed]",
      "text/plain": [
       "<Figure size 432x288 with 1 Axes>"
      ]
     },
     "metadata": {
      "needs_background": "light"
     },
     "output_type": "display_data"
    }
   ],
   "source": [
    "plt.scatter(data.year, data.selling_price)\n",
    "plt.xlabel(\"Year\")\n",
    "plt.ylabel(\"Selling price\")\n",
    "plt.show()\n",
    "plt.close()"
   ]
  },
  {
   "cell_type": "code",
   "execution_count": 10,
   "id": "10d1e838-bdbd-4a74-9d8e-60a8ee2464df",
   "metadata": {},
   "outputs": [
    {
     "data": {
      "image/png": "[encoded data removed]",
      "text/plain": [
       "<Figure size 432x288 with 1 Axes>"
      ]
     },
     "metadata": {
      "needs_background": "light"
     },
     "output_type": "display_data"
    }
   ],
   "source": [
    "plt.scatter(data.year, data.km_driven)\n",
    "plt.xlabel(\"Year\")\n",
    "plt.ylabel(\"Mileage\")\n",
    "plt.show()\n",
    "plt.close()"
   ]
  },
  {
   "cell_type": "code",
   "execution_count": 11,
   "id": "26de1960-0647-44b7-a858-d44de318d630",
   "metadata": {},
   "outputs": [
    {
     "data": {
      "image/png": "[encoded data removed]",
      "text/plain": [
       "<Figure size 432x288 with 1 Axes>"
      ]
     },
     "metadata": {
      "needs_background": "light"
     },
     "output_type": "display_data"
    }
   ],
   "source": [
    "plt.scatter(data.km_driven, data.selling_price)\n",
    "plt.xlabel(\"km driven\")\n",
    "plt.ylabel(\"price\")\n",
    "plt.show()\n",
    "plt.close()"
   ]
  },
  {
   "cell_type": "code",
   "execution_count": 12,
   "id": "8c23520a-e32a-4254-ac38-8dd228bdd9af",
   "metadata": {},
   "outputs": [
    {
     "data": {
      "text/html": [
       "<div>\n",
       "<style scoped>\n",
       "    .dataframe tbody tr th:only-of-type {\n",
       "        vertical-align: middle;\n",
       "    }\n",
       "\n",
       "    .dataframe tbody tr th {\n",
       "        vertical-align: top;\n",
       "    }\n",
       "\n",
       "    .dataframe thead th {\n",
       "        text-align: right;\n",
       "    }\n",
       "</style>\n",
       "<table border=\"1\" class=\"dataframe\">\n",
       "  <thead>\n",
       "    <tr style=\"text-align: right;\">\n",
       "      <th>seller_type</th>\n",
       "      <th>Dealer</th>\n",
       "      <th>Individual</th>\n",
       "    </tr>\n",
       "    <tr>\n",
       "      <th>owner</th>\n",
       "      <th></th>\n",
       "      <th></th>\n",
       "    </tr>\n",
       "  </thead>\n",
       "  <tbody>\n",
       "    <tr>\n",
       "      <th>1st owner</th>\n",
       "      <td>4</td>\n",
       "      <td>920</td>\n",
       "    </tr>\n",
       "    <tr>\n",
       "      <th>2nd owner</th>\n",
       "      <td>2</td>\n",
       "      <td>121</td>\n",
       "    </tr>\n",
       "    <tr>\n",
       "      <th>3rd owner</th>\n",
       "      <td>0</td>\n",
       "      <td>11</td>\n",
       "    </tr>\n",
       "    <tr>\n",
       "      <th>4th owner</th>\n",
       "      <td>0</td>\n",
       "      <td>3</td>\n",
       "    </tr>\n",
       "  </tbody>\n",
       "</table>\n",
       "</div>"
      ],
      "text/plain": [
       "seller_type  Dealer  Individual\n",
       "owner                          \n",
       "1st owner         4         920\n",
       "2nd owner         2         121\n",
       "3rd owner         0          11\n",
       "4th owner         0           3"
      ]
     },
     "execution_count": 12,
     "metadata": {},
     "output_type": "execute_result"
    }
   ],
   "source": [
    "two_way_cross_tab = pd.crosstab (data.owner, data.seller_type)\n",
    "two_way_cross_tab"
   ]
  },
  {
   "cell_type": "code",
   "execution_count": 13,
   "id": "4c7fe66f-3ba4-4fe8-8377-1db97c796caf",
   "metadata": {},
   "outputs": [
    {
     "data": {
      "text/plain": [
       "<AxesSubplot:xlabel='owner'>"
      ]
     },
     "execution_count": 13,
     "metadata": {},
     "output_type": "execute_result"
    },
    {
     "data": {
      "image/png": "[encoded data removed]",
      "text/plain": [
       "<Figure size 432x288 with 1 Axes>"
      ]
     },
     "metadata": {
      "needs_background": "light"
     },
     "output_type": "display_data"
    }
   ],
   "source": [
    "two_way_cross_tab.plot.bar(stacked = True)"
   ]
  },
  {
   "cell_type": "markdown",
   "id": "c4e7811e-24b0-4bf5-87e4-2c2864f8a770",
   "metadata": {},
   "source": [
    "## Grid Search Algorithm"
   ]
  },
  {
   "cell_type": "markdown",
   "id": "dd94a744-90f8-4f33-85c8-90739fbe29e4",
   "metadata": {},
   "source": [
    "**Just** *y*"
   ]
  },
  {
   "cell_type": "code",
   "execution_count": 159,
   "id": "b06c789a-5f3b-42aa-ba0b-eccb84112011",
   "metadata": {},
   "outputs": [
    {
     "data": {
      "text/html": [
       "<div>\n",
       "<style scoped>\n",
       "    .dataframe tbody tr th:only-of-type {\n",
       "        vertical-align: middle;\n",
       "    }\n",
       "\n",
       "    .dataframe tbody tr th {\n",
       "        vertical-align: top;\n",
       "    }\n",
       "\n",
       "    .dataframe thead th {\n",
       "        text-align: right;\n",
       "    }\n",
       "</style>\n",
       "<table border=\"1\" class=\"dataframe\">\n",
       "  <thead>\n",
       "    <tr style=\"text-align: right;\">\n",
       "      <th></th>\n",
       "      <th>Predicted</th>\n",
       "    </tr>\n",
       "  </thead>\n",
       "  <tbody>\n",
       "    <tr>\n",
       "      <th>0</th>\n",
       "      <td>59638.151744</td>\n",
       "    </tr>\n",
       "    <tr>\n",
       "      <th>1</th>\n",
       "      <td>59638.151744</td>\n",
       "    </tr>\n",
       "    <tr>\n",
       "      <th>2</th>\n",
       "      <td>59638.151744</td>\n",
       "    </tr>\n",
       "    <tr>\n",
       "      <th>3</th>\n",
       "      <td>59638.151744</td>\n",
       "    </tr>\n",
       "    <tr>\n",
       "      <th>4</th>\n",
       "      <td>59638.151744</td>\n",
       "    </tr>\n",
       "  </tbody>\n",
       "</table>\n",
       "</div>"
      ],
      "text/plain": [
       "      Predicted\n",
       "0  59638.151744\n",
       "1  59638.151744\n",
       "2  59638.151744\n",
       "3  59638.151744\n",
       "4  59638.151744"
      ]
     },
     "execution_count": 159,
     "metadata": {},
     "output_type": "execute_result"
    }
   ],
   "source": [
    "import math\n",
    "\n",
    "def loss_func(y, c):\n",
    "    return (y-c)**2\n",
    "\n",
    "\n",
    "def rmse(dy, c):\n",
    "    result = {}\n",
    "    for i in range(len (c)):\n",
    "        sum_y = 0\n",
    "        for j in range(dy.shape[0]):\n",
    "            sum_y = sum_y + (loss_func(dy[j], c[i]))\n",
    "        value = math.sqrt( 1/(dy.shape[0])*sum_y )   \n",
    "        result.update({c[i]: value})\n",
    "    return result\n",
    "\n",
    "def create_grid_for_c(dy):\n",
    "    result = []\n",
    "    result.append (dy.median())\n",
    "    result.append (dy.median() + 0.5*dy.std())\n",
    "    result.append (dy.median() - 0.5*dy.std())\n",
    "    result.append (dy.mean())\n",
    "    result.append (dy.mean() + 0.5*dy.std())\n",
    "    result.append (dy.mean() - 0.5*dy.std())\n",
    "    return result\n",
    "\n",
    "def grid_search_with_const (dy):\n",
    "    predicted = pd.DataFrame(columns = [\"Predicted\"])\n",
    "    c = create_grid_for_c(dy)\n",
    "    results = rmse(dy, c)\n",
    "    #c_opt = min(results, key=results.get)\n",
    "    c_opt = min(results.items(), key=lambda x: x[1])[0]\n",
    "    for i in range (dy.shape[0]):\n",
    "        predicted.loc[i]=[c_opt]\n",
    "    return predicted\n",
    "        \n",
    "results = grid_search_with_const (data.selling_price)\n",
    "results.head()"
   ]
  },
  {
   "cell_type": "code",
   "execution_count": 160,
   "id": "6c8b20e1-1d04-462d-a7b2-35a776d76a32",
   "metadata": {},
   "outputs": [
    {
     "data": {
      "text/html": [
       "<div>\n",
       "<style scoped>\n",
       "    .dataframe tbody tr th:only-of-type {\n",
       "        vertical-align: middle;\n",
       "    }\n",
       "\n",
       "    .dataframe tbody tr th {\n",
       "        vertical-align: top;\n",
       "    }\n",
       "\n",
       "    .dataframe thead th {\n",
       "        text-align: right;\n",
       "    }\n",
       "</style>\n",
       "<table border=\"1\" class=\"dataframe\">\n",
       "  <thead>\n",
       "    <tr style=\"text-align: right;\">\n",
       "      <th></th>\n",
       "      <th>Predicted</th>\n",
       "    </tr>\n",
       "  </thead>\n",
       "  <tbody>\n",
       "    <tr>\n",
       "      <th>0</th>\n",
       "      <td>34359.833176</td>\n",
       "    </tr>\n",
       "    <tr>\n",
       "      <th>1</th>\n",
       "      <td>34359.833176</td>\n",
       "    </tr>\n",
       "    <tr>\n",
       "      <th>2</th>\n",
       "      <td>34359.833176</td>\n",
       "    </tr>\n",
       "    <tr>\n",
       "      <th>3</th>\n",
       "      <td>34359.833176</td>\n",
       "    </tr>\n",
       "    <tr>\n",
       "      <th>4</th>\n",
       "      <td>34359.833176</td>\n",
       "    </tr>\n",
       "  </tbody>\n",
       "</table>\n",
       "</div>"
      ],
      "text/plain": [
       "      Predicted\n",
       "0  34359.833176\n",
       "1  34359.833176\n",
       "2  34359.833176\n",
       "3  34359.833176\n",
       "4  34359.833176"
      ]
     },
     "execution_count": 160,
     "metadata": {},
     "output_type": "execute_result"
    }
   ],
   "source": [
    "results2 = grid_search_with_const (data.km_driven)\n",
    "results2.head()"
   ]
  },
  {
   "cell_type": "markdown",
   "id": "1763c66f-9930-4d52-b39d-f607e27da6fc",
   "metadata": {},
   "source": [
    "**Using** *y* **and another numeric variable** *x*"
   ]
  },
  {
   "cell_type": "code",
   "execution_count": 161,
   "id": "a8a5a98d-2bc2-4fed-baec-eea7d163f222",
   "metadata": {},
   "outputs": [
    {
     "data": {
      "text/html": [
       "<div>\n",
       "<style scoped>\n",
       "    .dataframe tbody tr th:only-of-type {\n",
       "        vertical-align: middle;\n",
       "    }\n",
       "\n",
       "    .dataframe tbody tr th {\n",
       "        vertical-align: top;\n",
       "    }\n",
       "\n",
       "    .dataframe thead th {\n",
       "        text-align: right;\n",
       "    }\n",
       "</style>\n",
       "<table border=\"1\" class=\"dataframe\">\n",
       "  <thead>\n",
       "    <tr style=\"text-align: right;\">\n",
       "      <th></th>\n",
       "      <th>b0</th>\n",
       "      <th>b1</th>\n",
       "      <th>rmse</th>\n",
       "    </tr>\n",
       "  </thead>\n",
       "  <tbody>\n",
       "    <tr>\n",
       "      <th>0</th>\n",
       "      <td>-1.00</td>\n",
       "      <td>6000.0</td>\n",
       "      <td>3.719303e+08</td>\n",
       "    </tr>\n",
       "    <tr>\n",
       "      <th>1</th>\n",
       "      <td>-1.00</td>\n",
       "      <td>6005.0</td>\n",
       "      <td>3.722403e+08</td>\n",
       "    </tr>\n",
       "    <tr>\n",
       "      <th>2</th>\n",
       "      <td>-1.00</td>\n",
       "      <td>6010.0</td>\n",
       "      <td>3.725502e+08</td>\n",
       "    </tr>\n",
       "    <tr>\n",
       "      <th>3</th>\n",
       "      <td>-1.00</td>\n",
       "      <td>6015.0</td>\n",
       "      <td>3.728602e+08</td>\n",
       "    </tr>\n",
       "    <tr>\n",
       "      <th>4</th>\n",
       "      <td>-1.00</td>\n",
       "      <td>6020.0</td>\n",
       "      <td>3.731701e+08</td>\n",
       "    </tr>\n",
       "    <tr>\n",
       "      <th>...</th>\n",
       "      <td>...</td>\n",
       "      <td>...</td>\n",
       "      <td>...</td>\n",
       "    </tr>\n",
       "    <tr>\n",
       "      <th>39995</th>\n",
       "      <td>0.99</td>\n",
       "      <td>6975.0</td>\n",
       "      <td>4.323727e+08</td>\n",
       "    </tr>\n",
       "    <tr>\n",
       "      <th>39996</th>\n",
       "      <td>0.99</td>\n",
       "      <td>6980.0</td>\n",
       "      <td>4.326827e+08</td>\n",
       "    </tr>\n",
       "    <tr>\n",
       "      <th>39997</th>\n",
       "      <td>0.99</td>\n",
       "      <td>6985.0</td>\n",
       "      <td>4.329926e+08</td>\n",
       "    </tr>\n",
       "    <tr>\n",
       "      <th>39998</th>\n",
       "      <td>0.99</td>\n",
       "      <td>6990.0</td>\n",
       "      <td>4.333026e+08</td>\n",
       "    </tr>\n",
       "    <tr>\n",
       "      <th>39999</th>\n",
       "      <td>0.99</td>\n",
       "      <td>6995.0</td>\n",
       "      <td>4.336126e+08</td>\n",
       "    </tr>\n",
       "  </tbody>\n",
       "</table>\n",
       "<p>40000 rows × 3 columns</p>\n",
       "</div>"
      ],
      "text/plain": [
       "         b0      b1          rmse\n",
       "0     -1.00  6000.0  3.719303e+08\n",
       "1     -1.00  6005.0  3.722403e+08\n",
       "2     -1.00  6010.0  3.725502e+08\n",
       "3     -1.00  6015.0  3.728602e+08\n",
       "4     -1.00  6020.0  3.731701e+08\n",
       "...     ...     ...           ...\n",
       "39995  0.99  6975.0  4.323727e+08\n",
       "39996  0.99  6980.0  4.326827e+08\n",
       "39997  0.99  6985.0  4.329926e+08\n",
       "39998  0.99  6990.0  4.333026e+08\n",
       "39999  0.99  6995.0  4.336126e+08\n",
       "\n",
       "[40000 rows x 3 columns]"
      ]
     },
     "execution_count": 161,
     "metadata": {},
     "output_type": "execute_result"
    }
   ],
   "source": [
    "b0 = np.arange (start=-1, stop=1, step=0.01)\n",
    "b1 = np.arange(start=6000, stop = 7000, step=5)\n",
    "\n",
    "grid_info = {'b0':b0, 'b1':b1}\n",
    "\n",
    "def grid_search_with_extra_variable(dict, dx, dy):\n",
    "    df_input = pd.DataFrame(dict,  columns = [\"b0\", \"b1\", \"rmse\"]);\n",
    "    result = pd.DataFrame(columns = [\"b0\", \"b1\"])\n",
    "    \n",
    "    for i in range (df_input.b0.shape[0]):\n",
    "        for j in range (df_input.b1.shape[0]):\n",
    "            sum_y = 0\n",
    "            for k in range (dx.shape[0]):\n",
    "                c_i = df_input.b0[i] + df_input.b1[j]*dx[k]\n",
    "                sum_y = sum_y + (loss_func(c_i, dy[k]))\n",
    "            rmse = math.sqrt(1/(dx.shape[0])*sum_y)   \n",
    "            df2 = {'b0': df_input.b0[i], 'b1': df_input.b1[j], 'rmse':rmse}    \n",
    "            result = result.append(df2,ignore_index = True) \n",
    "    return result\n",
    "    \n",
    "tmp = grid_search_with_extra_variable(grid_info, data.km_driven, data.selling_price)   \n",
    "tmp\n"
   ]
  },
  {
   "cell_type": "code",
   "execution_count": 162,
   "id": "a1371c02-eaa6-4628-a2c8-62a7b4200524",
   "metadata": {},
   "outputs": [
    {
     "data": {
      "text/html": [
       "<div>\n",
       "<style scoped>\n",
       "    .dataframe tbody tr th:only-of-type {\n",
       "        vertical-align: middle;\n",
       "    }\n",
       "\n",
       "    .dataframe tbody tr th {\n",
       "        vertical-align: top;\n",
       "    }\n",
       "\n",
       "    .dataframe thead th {\n",
       "        text-align: right;\n",
       "    }\n",
       "</style>\n",
       "<table border=\"1\" class=\"dataframe\">\n",
       "  <thead>\n",
       "    <tr style=\"text-align: right;\">\n",
       "      <th></th>\n",
       "      <th>b0</th>\n",
       "      <th>b1</th>\n",
       "      <th>rmse</th>\n",
       "    </tr>\n",
       "  </thead>\n",
       "  <tbody>\n",
       "    <tr>\n",
       "      <th>0</th>\n",
       "      <td>-1.0</td>\n",
       "      <td>6000.0</td>\n",
       "      <td>3.719303e+08</td>\n",
       "    </tr>\n",
       "  </tbody>\n",
       "</table>\n",
       "</div>"
      ],
      "text/plain": [
       "    b0      b1          rmse\n",
       "0 -1.0  6000.0  3.719303e+08"
      ]
     },
     "execution_count": 162,
     "metadata": {},
     "output_type": "execute_result"
    }
   ],
   "source": [
    "optimal = tmp[ (tmp.rmse == tmp.rmse.min())]\n",
    "optimal"
   ]
  },
  {
   "cell_type": "code",
   "execution_count": 163,
   "id": "36443701-ff6e-4ce3-81a6-56f3e86a678f",
   "metadata": {},
   "outputs": [
    {
     "data": {
      "text/plain": [
       "0    59999999.0\n",
       "dtype: float64"
      ]
     },
     "execution_count": 163,
     "metadata": {},
     "output_type": "execute_result"
    }
   ],
   "source": [
    "x = 10000\n",
    "y = optimal.b0+optimal.b1*x\n",
    "y"
   ]
  },
  {
   "cell_type": "code",
   "execution_count": 164,
   "id": "dddb5f63-c420-4857-8b3b-232b56401a59",
   "metadata": {},
   "outputs": [
    {
     "data": {
      "text/plain": [
       "0    149999999.0\n",
       "dtype: float64"
      ]
     },
     "execution_count": 164,
     "metadata": {},
     "output_type": "execute_result"
    }
   ],
   "source": [
    "x = 25000\n",
    "y = optimal.b0+optimal.b1*x\n",
    "y"
   ]
  },
  {
   "cell_type": "code",
   "execution_count": 165,
   "id": "f6176f4f-ad68-49bd-babd-204c7edf3bde",
   "metadata": {},
   "outputs": [
    {
     "data": {
      "text/plain": [
       "0    209999999.0\n",
       "dtype: float64"
      ]
     },
     "execution_count": 165,
     "metadata": {},
     "output_type": "execute_result"
    }
   ],
   "source": [
    "x = 35000\n",
    "y = optimal.b0+optimal.b1*x\n",
    "y"
   ]
  },
  {
   "cell_type": "markdown",
   "id": "cdb73927-4f01-440a-8107-2ad857e1997f",
   "metadata": {},
   "source": [
    "### Gradient decent "
   ]
  },
  {
   "cell_type": "markdown",
   "id": "945efddb-ffa2-4e09-a266-dda8121e8eae",
   "metadata": {},
   "source": [
    "**Just** *y*"
   ]
  },
  {
   "cell_type": "code",
   "execution_count": 166,
   "id": "294c1e01-3239-479a-a728-07186e6f89d8",
   "metadata": {},
   "outputs": [
    {
     "data": {
      "text/plain": [
       "50000.084401403"
      ]
     },
     "execution_count": 166,
     "metadata": {},
     "output_type": "execute_result"
    }
   ],
   "source": [
    "def rmse2(dy, c):\n",
    "    result = {}\n",
    "    sum_y = 0\n",
    "    for j in range(dy.shape[0]):\n",
    "        sum_y = sum_y + (loss_func(dy[j], c))\n",
    "    value = math.sqrt( 1/(dy.shape[0])*sum_y )   \n",
    "    return value \n",
    "\n",
    "def gradient_decent_1(dy):\n",
    "    delta = 0.005\n",
    "    step_size = 0.5\n",
    "    cur_c = 50000\n",
    "    \n",
    "    diff_quotient = (rmse2(dy, cur_c+delta) - rmse2(dy, cur_c) )/delta\n",
    "    new_c = cur_c - diff_quotient*step_size\n",
    "    for i in range (40000):\n",
    "        if (abs((new_c - cur_c)) < 0.1):\n",
    "            cur_c = new_c\n",
    "            break\n",
    "        else:\n",
    "            cur_c = new_c\n",
    "            diff_quotient = (rmse2(dy, cur_c+delta) - rmse2(dy, cur_c) )/delta\n",
    "            new_c = cur_c - diff_quotient*step_size\n",
    "    return cur_c\n",
    "price_opt = gradient_decent_1(data.selling_price)   \n",
    "price_opt"
   ]
  },
  {
   "cell_type": "code",
   "execution_count": 167,
   "id": "506864a8-9d02-465e-a96c-20e7ba9f7be9",
   "metadata": {},
   "outputs": [
    {
     "data": {
      "text/plain": [
       "45101.93206366166"
      ]
     },
     "execution_count": 167,
     "metadata": {},
     "output_type": "execute_result"
    }
   ],
   "source": [
    "km_driven_opt = gradient_decent_1(data.km_driven)\n",
    "km_driven_opt"
   ]
  },
  {
   "cell_type": "markdown",
   "id": "b027a693-d70f-446b-94ed-0629f52875ad",
   "metadata": {},
   "source": [
    "**Using** *y* **and another numeric variable** *x*"
   ]
  },
  {
   "cell_type": "code",
   "execution_count": 168,
   "id": "41cf00fa-b948-4652-a5fc-c0282acf65b7",
   "metadata": {},
   "outputs": [
    {
     "name": "stdout",
     "output_type": "stream",
     "text": [
      "Inside1\n"
     ]
    },
    {
     "data": {
      "text/plain": [
       "array([ 6.00000221e+04, -9.46860997e-02])"
      ]
     },
     "execution_count": 168,
     "metadata": {},
     "output_type": "execute_result"
    }
   ],
   "source": [
    "def rmse3(dy,dx, b0, b1):\n",
    "    result = {}\n",
    "    sum_y = 0\n",
    "    for j in range(dy.shape[0]):\n",
    "        sum_y = sum_y + (loss_func(dy[j], (b0+b1*dx[j])))\n",
    "        value = math.sqrt( 1/(dy.shape[0])*sum_y )   \n",
    "    return value\n",
    "\n",
    "\n",
    "\n",
    "def diff_quotient_b0 (dy, dx, b0, b0_delta, b1):\n",
    "    return (rmse3(dy, dx, b0+b0_delta, b1) - rmse3 (dy, dx, b0, b1))/b0_delta\n",
    "\n",
    "\n",
    "def diff_quotient_b1 (dy, dx, b0, b1, b1_delta):\n",
    "    return (rmse3(dy, dx, b0, b1+b1_delta) - rmse3 (dy, dx, b0, b1))/b1_delta\n",
    "\n",
    "  \n",
    "def grad_decent_2(dx, dy):\n",
    "    cur_b0 = 60000\n",
    "    cur_b1 = 0\n",
    "    \n",
    "    step_size_b0 = 1\n",
    "    step_size_b1 = 0.000005\n",
    "    delta = 0.005\n",
    "    for i in range (40000):\n",
    "        dif_q_b0 = diff_quotient_b0 (dy, dx, cur_b0, delta, cur_b1)\n",
    "        new_b0 = cur_b0 - dif_q_b0*step_size_b0\n",
    "\n",
    "        dif_q_b1 = diff_quotient_b1 (dy, dx, new_b0, cur_b1, delta)\n",
    "        new_b1 = cur_b1 - dif_q_b1*step_size_b1\n",
    "    \n",
    "        cur_point = np.array((cur_b0, cur_b1))\n",
    "        new_point = np.array((new_b0, new_b1))\n",
    "        dist = np.linalg.norm(cur_point - new_point)\n",
    "        \n",
    "        if (dist < 0.048):\n",
    "            print (\"Inside\" + str(i))\n",
    "            return new_point\n",
    "        \n",
    "        cur_b0 = new_b0\n",
    "        cur_b1 = new_b1\n",
    "    print (\"Outside\")    \n",
    "    return new_point    \n",
    "        \n",
    "     \n",
    "res = grad_decent_2(data.km_driven, data.selling_price)    \n",
    "res"
   ]
  },
  {
   "cell_type": "code",
   "execution_count": 169,
   "id": "a6977842-0c10-4a06-8ed2-e7186ba342ff",
   "metadata": {},
   "outputs": [
    {
     "name": "stdout",
     "output_type": "stream",
     "text": [
      "y1=59053.16113034445 y2=57632.86963527735 y3=56686.008638565945\n"
     ]
    }
   ],
   "source": [
    "x = 10000\n",
    "y1 = res[0] + res[1]*x\n",
    "\n",
    "x = 25000\n",
    "y2 = res[0] + res[1]*x\n",
    "\n",
    "x = 35000\n",
    "y3= res[0] + res[1]*x\n",
    " \n",
    "print (\"y1=\" + str (y1) + \" y2=\" + str(y2) + \" y3=\" + str (y3))"
   ]
  },
  {
   "cell_type": "code",
   "execution_count": null,
   "id": "35dc9f82-b0d1-47b0-8e7d-554d5aa65f00",
   "metadata": {},
   "outputs": [],
   "source": []
  }
 ],
 "metadata": {
  "kernelspec": {
   "display_name": "Python 3",
   "language": "python",
   "name": "python3"
  },
  "language_info": {
   "codemirror_mode": {
    "name": "ipython",
    "version": 3
   },
   "file_extension": ".py",
   "mimetype": "text/x-python",
   "name": "python",
   "nbconvert_exporter": "python",
   "pygments_lexer": "ipython3",
   "version": "3.8.5"
  }
 },
 "nbformat": 4,
 "nbformat_minor": 5
}
